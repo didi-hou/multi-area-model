{
 "cells": [
  {
   "cell_type": "code",
   "execution_count": 1,
   "id": "4be98533-e903-4715-a78d-fccf7098f8de",
   "metadata": {},
   "outputs": [],
   "source": [
    "# Create config file\n",
    "with open('config.py', 'w') as fp:\n",
    "    fp.write(\n",
    "'''import os\n",
    "base_path = os.path.abspath(\".\")\n",
    "data_path = os.path.abspath(\"simulations\")\n",
    "jobscript_template = \"python {base_path}/run_simulation.py {label}\"\n",
    "submit_cmd = \"bash -c\"\n",
    "''')"
   ]
  },
  {
   "cell_type": "code",
   "execution_count": 2,
   "id": "068e31ea-2c63-4c8c-9445-0276acc38085",
   "metadata": {},
   "outputs": [
    {
     "name": "stdout",
     "output_type": "stream",
     "text": [
      "\n",
      "              -- N E S T --\n",
      "  Copyright (C) 2004 The NEST Initiative\n",
      "\n",
      " Version: 3.6.0\n",
      " Built: Oct 15 2023 15:12:16\n",
      "\n",
      " This program is provided AS IS and comes with\n",
      " NO WARRANTY. See the file LICENSE for details.\n",
      "\n",
      " Problems or suggestions?\n",
      "   Visit https://www.nest-simulator.org\n",
      "\n",
      " Type 'nest.help()' to find out more about NEST.\n",
      "\n"
     ]
    }
   ],
   "source": [
    "import numpy as np\n",
    "import sys\n",
    "import os\n",
    "\n",
    "from multiarea_model import MultiAreaModel\n",
    "from multiarea_model import Analysis\n",
    "from config import base_path, data_path\n",
    "\n",
    "sys.path.append('./figures/MAM2EBRAINS')\n",
    "from M2E_compute_rate_time_series import compute_rate_time_series\n",
    "from compute_save_fc import compute_fc"
   ]
  },
  {
   "cell_type": "code",
   "execution_count": 3,
   "id": "0a3d2306-121f-4aa3-9c8d-835edd76c862",
   "metadata": {},
   "outputs": [],
   "source": [
    "# def perform_simulation(param):\n",
    "#     scale_down_to = 0.006\n",
    "    \n",
    "#     cc_weights_factor = param\n",
    "\n",
    "#     complete_area_list = ['V1', 'V2', 'VP', 'V3', 'V3A', 'MT', 'V4t', 'V4', 'VOT', 'MSTd',\n",
    "#                           'PIP', 'PO', 'DP', 'MIP', 'MDP', 'VIP', 'LIP', 'PITv', 'PITd',\n",
    "#                           'MSTl', 'CITv', 'CITd', 'FEF', 'TF', 'AITv', 'FST', '7a', 'STPp',\n",
    "#                           'STPa', '46', 'AITd', 'TH']\n",
    "\n",
    "#     areas_simulated = complete_area_list\n",
    "\n",
    "#     replace_non_simulated_areas = 'het_poisson_stat'\n",
    "\n",
    "#     g = -11.\n",
    "\n",
    "#     rate_ext = 10.\n",
    "    \n",
    "#     # Determine replace_cc_input_source\n",
    "#     replace_cc_input_source = None                                               # By default, replace_cc_input_source is set to None\n",
    "#                                                                                  # where areas_simulated is complete_area_list                                                           \n",
    "#     if set(areas_simulated) != set(complete_area_list):                                                                                       \n",
    "#         if replace_non_simulated_areas == 'hom_poisson_stat':                   \n",
    "#             replace_cc_input_source = None\n",
    "#         elif replace_non_simulated_areas == 'het_poisson_stat' or replace_non_simulated_areas == 'het_current_nonstat':\n",
    "#             replace_cc_input_source = os.path.join(base_path, 'tests/fullscale_rates.json')\n",
    "#         else:\n",
    "#             raise Exception(\"'hom_poisson_stat', 'het_poisson_stat', or 'het_current_nonstat' should be assigned to replace_non_simulated_areas when not all areas are simulated!\")\n",
    "\n",
    "#     # Determine cc_weights_I_factor from cc_weights_factor\n",
    "#     if cc_weights_factor == 1.0:                                                  # For ground state with cc_weights_factor as 1., \n",
    "#         cc_weights_I_factor = 1.0                                                 # cc_weights_I_factor is set to 1.\n",
    "#     elif cc_weights_factor > 1.0:                                                 # For cc_weights_factor larger than 1.0,\n",
    "#         cc_weights_I_factor = 2.0                                                 # cc_weights_I_factor is set to 2.\n",
    "#     else:                                                                         # cc_weights_factor outside of (1., 2.5], raise error\n",
    "#         raise Exception(\"A value that is equal to or larger than 1.0 should be assigned to the parameter cc_weights_factor!\")\n",
    "\n",
    "#     # Connection parameters\n",
    "#     conn_params = {\n",
    "#         'replace_non_simulated_areas': replace_non_simulated_areas,               # Whether to replace non-simulated areas by Poisson sources \n",
    "#         'g': g,                                                                   # It sets the relative inhibitory synaptic strength, by default: -11.\n",
    "#         'replace_cc_input_source': replace_cc_input_source,                       # Specify the data used to replace non-simulated areas      \n",
    "#         'cc_weights_factor': cc_weights_factor,\n",
    "#         'cc_weights_I_factor': cc_weights_I_factor\n",
    "#     }\n",
    "\n",
    "#     # Input parameters\n",
    "#     input_params = {\n",
    "#         'rate_ext': rate_ext                                                      # Rate of the Poissonian spike generator (in spikes/s), by default: 10.\n",
    "#     } \n",
    "\n",
    "#     # Network parameters\n",
    "#     network_params = {\n",
    "#         'N_scaling': scale_down_to,                                               # Scaling of population sizes, by default: 1. for full scale multi-area model\n",
    "#         'K_scaling': scale_down_to,                                               # Scaling of indegrees, by default: 1. for full scale multi-area model\n",
    "#         'fullscale_rates': os.path.join(base_path, 'tests/fullscale_rates.json'), # Absolute path to the file holding full-scale rates for scaling synaptic weights, by default: None\n",
    "#         'input_params': input_params,                                             # Input parameters\n",
    "#         'connection_params': conn_params,                                         # Connection parameters\n",
    "#     } \n",
    "\n",
    "#     # Simulation parameters\n",
    "#     sim_params = {\n",
    "#         'areas_simulated': areas_simulated,                                       # Cortical areas included in the simulation\n",
    "#         't_sim': 2000.,                                                           # Simulated time (in ms), by default: 10.\n",
    "#         'rng_seed': 1                                                             # Global random seed\n",
    "#     }\n",
    "    \n",
    "#     M = MultiAreaModel(network_params, \n",
    "#                    simulation=True,\n",
    "#                    sim_spec=sim_params,\n",
    "#                    theory=True)\n",
    "    \n",
    "#     # Run the simulation, depending on the model parameter and downscale ratio, the running time varies largely.\n",
    "#     M.simulation.simulate()\n",
    "    \n",
    "#     label = M.simulation.label\n",
    "#     A = Analysis(M, M.simulation, data_list=['spikes'], load_areas=None)\n",
    "    \n",
    "#     for area in M.area_list:\n",
    "#             compute_rate_time_series(M, data_path, label, area, 'full')\n",
    "            \n",
    "#     param = cc_weights_factor\n",
    "    \n",
    "#     compute_fc(M, data_path, label, param)"
   ]
  },
  {
   "cell_type": "code",
   "execution_count": 4,
   "id": "57bf6957-a2ca-4dfb-ad78-008d442d4823",
   "metadata": {},
   "outputs": [],
   "source": [
    "# cc_weights_factor_list = [1.0, 1.1, 1.2, 1.3, 1.4, 1.5, 1.6, 1.7, 1.8, 1.9, 2.0, 2.1, 2.2, 2.3, 2.4, 2.5, 3.0, 3.5, 4.0, 5.0, 6.0, 7.0, 8.0, 9.0, 10.0]\n",
    "\n",
    "# for param in cc_weights_factor_list:\n",
    "#     perform_simulation(param)"
   ]
  },
  {
   "cell_type": "code",
   "execution_count": 27,
   "id": "710f2caa-0338-466b-be6d-e6fe5c680d3b",
   "metadata": {},
   "outputs": [
    {
     "name": "stdout",
     "output_type": "stream",
     "text": [
      "Initializing network from dictionary.\n",
      "RAND_DATA_LABEL 3950\n"
     ]
    },
    {
     "name": "stderr",
     "output_type": "stream",
     "text": [
      "/srv/main-spack-instance-2309/spack/opt/spack/linux-ubuntu20.04-x86_64/gcc-10.3.0/py-numpy-1.23.5-rm3niouf5xjbvqy74ubkcuewixomy5ds/lib/python3.8/site-packages/numpy/core/fromnumeric.py:3432: RuntimeWarning:Mean of empty slice.\n",
      "/srv/main-spack-instance-2309/spack/opt/spack/linux-ubuntu20.04-x86_64/gcc-10.3.0/py-numpy-1.23.5-rm3niouf5xjbvqy74ubkcuewixomy5ds/lib/python3.8/site-packages/numpy/core/_methods.py:190: RuntimeWarning:invalid value encountered in double_scalars\n"
     ]
    },
    {
     "name": "stdout",
     "output_type": "stream",
     "text": [
      "\n",
      "\n",
      "========================================\n",
      "Customized parameters\n",
      "--------------------\n",
      "{'K_scaling': 0.006,\n",
      " 'N_scaling': 0.006,\n",
      " 'connection_params': {'cc_weights_I_factor': 2.0,\n",
      "                       'cc_weights_factor': 1.9,\n",
      "                       'g': -11.0,\n",
      "                       'replace_cc_input_source': None,\n",
      "                       'replace_non_simulated_areas': 'het_poisson_stat'},\n",
      " 'fullscale_rates': '/opt/app-root/src/multi-area-model/tests/fullscale_rates.json',\n",
      " 'input_params': {'rate_ext': 10.0}}\n",
      "========================================\n"
     ]
    },
    {
     "name": "stderr",
     "output_type": "stream",
     "text": [
      "/srv/main-spack-instance-2309/spack/var/spack/environments/ebrains-23-09/.spack-env/view/lib/python3.8/site-packages/dicthash/dicthash.py:47: UserWarning:Float too small for safe conversion tointeger. Rounding down to zero.\n"
     ]
    },
    {
     "name": "stdout",
     "output_type": "stream",
     "text": [
      "Simulation label: d7d699dad9f64bfb7893ef60997cb2c4\n",
      "Copied files.\n",
      "Initialized simulation class.\n"
     ]
    }
   ],
   "source": [
    "scale_down_to = 0.006\n",
    "\n",
    "cc_weights_factor = 1.9\n",
    "\n",
    "complete_area_list = ['V1', 'V2', 'VP', 'V3', 'V3A', 'MT', 'V4t', 'V4', 'VOT', 'MSTd',\n",
    "                      'PIP', 'PO', 'DP', 'MIP', 'MDP', 'VIP', 'LIP', 'PITv', 'PITd',\n",
    "                      'MSTl', 'CITv', 'CITd', 'FEF', 'TF', 'AITv', 'FST', '7a', 'STPp',\n",
    "                      'STPa', '46', 'AITd', 'TH']\n",
    "\n",
    "areas_simulated = complete_area_list\n",
    "\n",
    "replace_non_simulated_areas = 'het_poisson_stat'\n",
    "\n",
    "g = -11.\n",
    "\n",
    "rate_ext = 10.\n",
    "\n",
    "# Determine replace_cc_input_source\n",
    "replace_cc_input_source = None                                               # By default, replace_cc_input_source is set to None\n",
    "                                                                             # where areas_simulated is complete_area_list                                                           \n",
    "if set(areas_simulated) != set(complete_area_list):                                                                                       \n",
    "    if replace_non_simulated_areas == 'hom_poisson_stat':                   \n",
    "        replace_cc_input_source = None\n",
    "    elif replace_non_simulated_areas == 'het_poisson_stat' or replace_non_simulated_areas == 'het_current_nonstat':\n",
    "        replace_cc_input_source = os.path.join(base_path, 'tests/fullscale_rates.json')\n",
    "    else:\n",
    "        raise Exception(\"'hom_poisson_stat', 'het_poisson_stat', or 'het_current_nonstat' should be assigned to replace_non_simulated_areas when not all areas are simulated!\")\n",
    "\n",
    "# Determine cc_weights_I_factor from cc_weights_factor\n",
    "if cc_weights_factor == 1.0:                                                  # For ground state with cc_weights_factor as 1., \n",
    "    cc_weights_I_factor = 1.0                                                 # cc_weights_I_factor is set to 1.\n",
    "elif cc_weights_factor > 1.0:                                                 # For cc_weights_factor larger than 1.0,\n",
    "    cc_weights_I_factor = 2.0                                                 # cc_weights_I_factor is set to 2.\n",
    "else:                                                                         # cc_weights_factor outside of (1., 2.5], raise error\n",
    "    raise Exception(\"A value that is equal to or larger than 1.0 should be assigned to the parameter cc_weights_factor!\")\n",
    "\n",
    "# Connection parameters\n",
    "conn_params = {\n",
    "    'replace_non_simulated_areas': replace_non_simulated_areas,               # Whether to replace non-simulated areas by Poisson sources \n",
    "    'g': g,                                                                   # It sets the relative inhibitory synaptic strength, by default: -11.\n",
    "    'replace_cc_input_source': replace_cc_input_source,                       # Specify the data used to replace non-simulated areas      \n",
    "    'cc_weights_factor': cc_weights_factor,\n",
    "    'cc_weights_I_factor': cc_weights_I_factor\n",
    "}\n",
    "\n",
    "# Input parameters\n",
    "input_params = {\n",
    "    'rate_ext': rate_ext                                                      # Rate of the Poissonian spike generator (in spikes/s), by default: 10.\n",
    "} \n",
    "\n",
    "# Network parameters\n",
    "network_params = {\n",
    "    'N_scaling': scale_down_to,                                               # Scaling of population sizes, by default: 1. for full scale multi-area model\n",
    "    'K_scaling': scale_down_to,                                               # Scaling of indegrees, by default: 1. for full scale multi-area model\n",
    "    'fullscale_rates': os.path.join(base_path, 'tests/fullscale_rates.json'), # Absolute path to the file holding full-scale rates for scaling synaptic weights, by default: None\n",
    "    'input_params': input_params,                                             # Input parameters\n",
    "    'connection_params': conn_params,                                         # Connection parameters\n",
    "} \n",
    "\n",
    "# Simulation parameters\n",
    "sim_params = {\n",
    "    'areas_simulated': areas_simulated,                                       # Cortical areas included in the simulation\n",
    "    't_sim': 2000.,                                                           # Simulated time (in ms), by default: 10.\n",
    "    'rng_seed': 1                                                             # Global random seed\n",
    "}\n",
    "\n",
    "M = MultiAreaModel(network_params, \n",
    "               simulation=True,\n",
    "               sim_spec=sim_params,\n",
    "               theory=True)"
   ]
  },
  {
   "cell_type": "code",
   "execution_count": 62,
   "id": "13f4f226-e303-4fd9-be79-f672c98ce8b8",
   "metadata": {},
   "outputs": [],
   "source": [
    "%matplotlib inline\n",
    "import matplotlib.pyplot as plt\n",
    "import copy\n",
    "import csv\n",
    "import math"
   ]
  },
  {
   "cell_type": "code",
   "execution_count": 63,
   "id": "ae3978ad-4636-48fd-aa99-baa7299399f8",
   "metadata": {},
   "outputs": [],
   "source": [
    "# Load experimental functional connectivity\n",
    "func_conn_data = {}\n",
    "with open('./figures/Schmidt2018_dyn/Fig8_exp_func_conn.csv', 'r') as f:\n",
    "    myreader = csv.reader(f, delimiter='\\t')\n",
    "    # Skip first 3 lines\n",
    "    next(myreader)\n",
    "    next(myreader)\n",
    "    next(myreader)\n",
    "    areas = next(myreader)\n",
    "    for line in myreader:\n",
    "        dict_ = {}\n",
    "        for i in range(len(line)):\n",
    "            dict_[areas[i]] = float(line[i])\n",
    "        func_conn_data[areas[myreader.line_num - 5]] = dict_\n",
    "\n",
    "# Experimental functional connectivity\n",
    "exp_FC = np.zeros((len(M.area_list),\n",
    "                   len(M.area_list)))\n",
    "for i, area1 in enumerate(M.area_list):\n",
    "    for j, area2 in enumerate(M.area_list):\n",
    "        exp_FC[i][j] = func_conn_data[area1][area2]"
   ]
  },
  {
   "cell_type": "code",
   "execution_count": 64,
   "id": "70604f7f-e517-4d6a-b655-8128895b6e5e",
   "metadata": {},
   "outputs": [],
   "source": [
    "# cc_weights_factor_list = [\n",
    "#     1.0, 1.1, 1.2, 1.3, 1.4, 1.5, 1.6, 1.7, 1.8, 1.9, 2.0,\n",
    "#     2.1, 2.2, 2.3, 2.4, 2.5, 2.6, 2.7, 2.8, 2.9, 3.0, \n",
    "#     3.1, 3.2, 3.3, 3.4, 3.5, 3.6, 3.7, 3.8, 3.9, 4.0, \n",
    "#     4.1, 4.2, 4.3, 4.4, 4.5, 4.6, 4.7, 4.8, 4.9, 5.0, \n",
    "#     5.1, 5.2, 5.3, 5.4, 5.5, 5.6, 5.7, 5.8, 5.9, 6.0, \n",
    "#     6.1, 6.2, 6.3, 6.4, 6.5, 6.6, 6.7, 6.8, 6.9, 7.0, \n",
    "#     7.1, 7.2, 7.3, 7.4, 7.5, 7.6, 7.7, 7.8, 7.9, 8.0, \n",
    "#     8.1, 8.2, 8.3, 8.4, 8.5, 8.6, 8.7, 8.8, 8.9, 9.0, \n",
    "#     9.1, 9.2, 9.3, 9.4, 9.5, 9.6, 9.7, 9.8, 9.9, 10.0, \n",
    "#     10.1, 10.2, 10.3, 10.4, 10.5, 10.6, 10.7, 10.8, 10.9, 11.0, \n",
    "#     11.1, 11.2, 11.3, 11.4, 11.5, 11.6, 11.7, 11.8, 11.9, 12.0, \n",
    "#     12.1, 12.2, 12.3, 12.4, 12.5, 12.6, 12.7, 12.8, 12.9, 13.0, \n",
    "#     13.1, 13.2, 13.3, 13.4, 13.5, 13.6, 13.7, 13.8, 13.9, 14.0, \n",
    "#     14.1, 14.2, 14.3, 14.4, 14.5, 14.6, 14.7, 14.8, 14.9, 15.0, \n",
    "#     15.1, 15.2, 15.3, 15.4, 15.5, 15.6, 15.7, 15.8, 15.9, 16.0, \n",
    "#     16.1, 16.2, 16.3, 16.4, 16.5, 16.6, 16.7, 16.8, 16.9, 17.0, \n",
    "#     17.1, 17.2, 17.3, 17.4, 17.5, 17.6, 17.7, 17.8, 17.9, 18.0, \n",
    "#     18.1, 18.2, 18.3, 18.4, 18.5, 18.6, 18.7, 18.8, 18.9, 19.0, \n",
    "#     19.1, 19.2, 19.3, 19.4, 19.5, 19.6, 19.7, 19.8, 19.9, 20.0,\n",
    "#     21, 22, 23, 24, 25, 26, 27, 28, 29, 30\n",
    "#     31, 32, 33, 34, 35, 36, 37, 38, 39, 40, \n",
    "#     41, 42, 43, 44, 45, 46, 47, 47, 49, 50]\n",
    "cc_weights_factor_list = [1.0, 1.1, 1.2, 1.3, 1.4, 1.5, 1.6, 1.7, 1.8, 1.9, 2.0, 2.1, 2.2, 2.3, 2.4, 2.5, 3.0, 3.5, 4.0, 5.0, 6.0, 7.0, 8.0, 9.0, 10.0]"
   ]
  },
  {
   "cell_type": "code",
   "execution_count": 65,
   "id": "1a4090a2-72c5-4750-8a98-941f00a6d2f4",
   "metadata": {},
   "outputs": [],
   "source": [
    "# Load a list of simulated functional connectivity\n",
    "sim_FC = {}\n",
    "for param in cc_weights_factor_list:\n",
    "    fn = os.path.join(data_path,\n",
    "                      'parameter_scan',\n",
    "                      'functional_connectivity_synaptic_input_{}.npy'.format(param))\n",
    "    sim_FC[param] = np.load(fn)"
   ]
  },
  {
   "cell_type": "code",
   "execution_count": 66,
   "id": "aaa06444-3f92-4c04-9448-014c98110057",
   "metadata": {},
   "outputs": [],
   "source": [
    "def zero_diagonal(matrix):\n",
    "    \"\"\"\n",
    "    Return copy of a matrix with diagonal set to zero.\n",
    "    \"\"\"\n",
    "    M = copy.copy(matrix)\n",
    "    for i in range(M.shape[0]):\n",
    "        M[i, i] = 0\n",
    "    return M"
   ]
  },
  {
   "cell_type": "code",
   "execution_count": 67,
   "id": "9a2f8850-b5ff-4173-a739-2bb828d728dd",
   "metadata": {},
   "outputs": [
    {
     "name": "stdout",
     "output_type": "stream",
     "text": [
      "(0.0015847317063646948, 0.4015847317063647, 7.0)\n"
     ]
    }
   ],
   "source": [
    "# Compute correlation coefficient\n",
    "cc_list = []\n",
    "rsme_list = []\n",
    "for i, param in enumerate(cc_weights_factor_list):\n",
    "    # Pearson correlation\n",
    "    cc = np.corrcoef(zero_diagonal(sim_FC[param]).flatten(),\n",
    "                     zero_diagonal(exp_FC).flatten())[0][1]\n",
    "    cc_list.append(cc)\n",
    "    # RSME\n",
    "    rsme = np.sqrt(np.mean((sim_FC[param]-exp_FC)**2))\n",
    "    rsme_list.append(rsme)\n",
    "\n",
    "# RSME similarity\n",
    "rsme_sim_list = np.exp(-(rsme_list/np.std(zero_diagonal(exp_FC).flatten())))\n",
    "\n",
    "# Initialize the list to store tuples of (absolute difference, value, index)\n",
    "differences = [(abs(0.4 - value), value, cc_weights_factor_list[index]) for index, value in enumerate(cc_list)]\n",
    "\n",
    "# Sort the list based on the absolute difference\n",
    "differences.sort()\n",
    "# print(differences)\n",
    "print(differences[0])"
   ]
  },
  {
   "cell_type": "code",
   "execution_count": 68,
   "id": "b196c433-f98c-4369-bf20-5394c65bb3b4",
   "metadata": {},
   "outputs": [
    {
     "data": {
      "image/png": "[encoded data removed]",
      "text/plain": [
       "<Figure size 1500x400 with 1 Axes>"
      ]
     },
     "metadata": {},
     "output_type": "display_data"
    }
   ],
   "source": [
    "# Plotting\n",
    "fig = plt.figure(figsize=(15, 4))\n",
    "ax = plt.subplot()\n",
    "\n",
    "# Plot the correlation coefficient\n",
    "ax.plot(cc_weights_factor_list[1:], cc_list[1:], '.', ms=10,\n",
    "        markeredgecolor='none', label='Sim. vs. Exp.', color='k')\n",
    "ax.plot(cc_weights_factor_list[0], cc_list[0], '^', ms=5,\n",
    "        markeredgecolor='none', label='Sim. vs. Exp.', color='k')\n",
    "\n",
    "# Plot the RSME similarity\n",
    "ax.plot(cc_weights_factor_list, rsme_sim_list, '.', ms=10,\n",
    "        markeredgecolor='none', label='Sim. vs. Exp.', color='r')\n",
    "\n",
    "# Correlation between exp. FC and structural connectivity\n",
    "# Construct the structural connectivity as the matrix of relative\n",
    "conn_matrix = np.zeros((len(M.area_list), len(M.area_list)))\n",
    "for i, area1 in enumerate(M.area_list):\n",
    "    s = np.sum(list(M.K_areas[area1].values()))\n",
    "    for j, area2 in enumerate(M.area_list):\n",
    "        value = M.K_areas[area1][area2] / s\n",
    "        conn_matrix[i][j] = value\n",
    "\n",
    "# Compute correlation between exp. FC and structural connectivity\n",
    "cc = np.corrcoef(zero_diagonal(conn_matrix).flatten(),\n",
    "                 zero_diagonal(exp_FC).flatten())[0][1]\n",
    "\n",
    "# Formatting\n",
    "ax.hlines(cc, -0.1, 15, linestyle='dashed', color='k')\n",
    "ax.set_xlabel(r'Cortico-cortical weight factor $\\chi$',\n",
    "              labelpad=-0.1, size=16)\n",
    "ax.set_ylabel(r'$r_{\\mathrm{Pearson}}$', size=20)\n",
    "ax.set_xlim((0.9, 10.0))\n",
    "ax.set_ylim((-0.1, 0.6))\n",
    "ax.set_yticks([0., 0.2, 0.4, 0.6])\n",
    "ax.set_yticklabels([0., 0.2, 0.4, 0.6], size=13)\n",
    "ax.set_xticks(cc_weights_factor_list)\n",
    "ax.set_xticklabels(cc_weights_factor_list, size=10, rotation=90)\n",
    "\n",
    "plt.show()"
   ]
  },
  {
   "cell_type": "code",
   "execution_count": 73,
   "id": "e8b16ec5-ece6-41e5-949f-7542f261a961",
   "metadata": {},
   "outputs": [
    {
     "data": {
      "image/png": "[encoded data removed]",
      "text/plain": [
       "<Figure size 640x480 with 1 Axes>"
      ]
     },
     "metadata": {},
     "output_type": "display_data"
    },
    {
     "data": {
      "image/png": "[encoded data removed]",
      "text/plain": [
       "<Figure size 640x480 with 1 Axes>"
      ]
     },
     "metadata": {},
     "output_type": "display_data"
    }
   ],
   "source": [
    "# Plotting\n",
    "sys.path.append('./figures/Schmidt2018_dyn')\n",
    "from plotcolors import myred, myblue\n",
    "cmap = pl.cm.coolwarm\n",
    "cmap = cmap.from_list('mycmap', [myblue, 'white', myred], N=256)\n",
    "\n",
    "ax1 = plt.subplot()\n",
    "\n",
    "ax1.pcolormesh(sim_FC[7.0], cmap=cmap)\n",
    "plt.show()\n",
    "\n",
    "ax2 = plt.subplot()\n",
    "ax2.pcolormesh(exp_FC, cmap=cmap)\n",
    "\n",
    "plt.show()"
   ]
  },
  {
   "cell_type": "code",
   "execution_count": null,
   "id": "8b47dcc0-9cbe-4dd2-bead-65a8c5eba8a3",
   "metadata": {},
   "outputs": [],
   "source": []
  }
 ],
 "metadata": {
  "kernelspec": {
   "display_name": "EBRAINS-23.09",
   "language": "python",
   "name": "ebrains-23.09"
  },
  "language_info": {
   "codemirror_mode": {
    "name": "ipython",
    "version": 3
   },
   "file_extension": ".py",
   "mimetype": "text/x-python",
   "name": "python",
   "nbconvert_exporter": "python",
   "pygments_lexer": "ipython3",
   "version": "3.8.11"
  }
 },
 "nbformat": 4,
 "nbformat_minor": 5
}
