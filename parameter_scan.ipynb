{
 "cells": [
  {
   "cell_type": "code",
   "execution_count": 1,
   "id": "4be98533-e903-4715-a78d-fccf7098f8de",
   "metadata": {},
   "outputs": [],
   "source": [
    "# Create config file\n",
    "with open('config.py', 'w') as fp:\n",
    "    fp.write(\n",
    "'''import os\n",
    "base_path = os.path.abspath(\".\")\n",
    "data_path = os.path.abspath(\"simulations\")\n",
    "jobscript_template = \"python {base_path}/run_simulation.py {label}\"\n",
    "submit_cmd = \"bash -c\"\n",
    "''')"
   ]
  },
  {
   "cell_type": "code",
   "execution_count": 2,
   "id": "068e31ea-2c63-4c8c-9445-0276acc38085",
   "metadata": {},
   "outputs": [
    {
     "name": "stdout",
     "output_type": "stream",
     "text": [
      "\n",
      "              -- N E S T --\n",
      "  Copyright (C) 2004 The NEST Initiative\n",
      "\n",
      " Version: 3.6.0\n",
      " Built: Oct 15 2023 15:12:16\n",
      "\n",
      " This program is provided AS IS and comes with\n",
      " NO WARRANTY. See the file LICENSE for details.\n",
      "\n",
      " Problems or suggestions?\n",
      "   Visit https://www.nest-simulator.org\n",
      "\n",
      " Type 'nest.help()' to find out more about NEST.\n",
      "\n"
     ]
    }
   ],
   "source": [
    "%matplotlib inline\n",
    "import numpy as np\n",
    "import os\n",
    "import matplotlib.pyplot as plt\n",
    "import copy\n",
    "import csv\n",
    "\n",
    "from multiarea_model import MultiAreaModel\n",
    "from config import base_path, data_path"
   ]
  },
  {
   "cell_type": "code",
   "execution_count": 3,
   "id": "710f2caa-0338-466b-be6d-e6fe5c680d3b",
   "metadata": {},
   "outputs": [
    {
     "name": "stdout",
     "output_type": "stream",
     "text": [
      "Initializing network from dictionary.\n",
      "RAND_DATA_LABEL 5246\n"
     ]
    },
    {
     "name": "stderr",
     "output_type": "stream",
     "text": [
      "/srv/main-spack-instance-2309/spack/opt/spack/linux-ubuntu20.04-x86_64/gcc-10.3.0/py-numpy-1.23.5-rm3niouf5xjbvqy74ubkcuewixomy5ds/lib/python3.8/site-packages/numpy/core/fromnumeric.py:3432: RuntimeWarning:Mean of empty slice.\n",
      "/srv/main-spack-instance-2309/spack/opt/spack/linux-ubuntu20.04-x86_64/gcc-10.3.0/py-numpy-1.23.5-rm3niouf5xjbvqy74ubkcuewixomy5ds/lib/python3.8/site-packages/numpy/core/_methods.py:190: RuntimeWarning:invalid value encountered in double_scalars\n"
     ]
    },
    {
     "name": "stdout",
     "output_type": "stream",
     "text": [
      "\n",
      "\n",
      "========================================\n",
      "Customized parameters\n",
      "--------------------\n",
      "{}\n",
      "========================================\n"
     ]
    },
    {
     "name": "stderr",
     "output_type": "stream",
     "text": [
      "/srv/main-spack-instance-2309/spack/var/spack/environments/ebrains-23-09/.spack-env/view/lib/python3.8/site-packages/dicthash/dicthash.py:47: UserWarning:Float too small for safe conversion tointeger. Rounding down to zero.\n"
     ]
    }
   ],
   "source": [
    "# Instantiate \n",
    "M = MultiAreaModel({})"
   ]
  },
  {
   "cell_type": "code",
   "execution_count": 4,
   "id": "ae3978ad-4636-48fd-aa99-baa7299399f8",
   "metadata": {},
   "outputs": [],
   "source": [
    "# Load experimental functional connectivity\n",
    "func_conn_data = {}\n",
    "with open('./figures/Schmidt2018_dyn/Fig8_exp_func_conn.csv', 'r') as f:\n",
    "    myreader = csv.reader(f, delimiter='\\t')\n",
    "    # Skip first 3 lines\n",
    "    next(myreader)\n",
    "    next(myreader)\n",
    "    next(myreader)\n",
    "    areas = next(myreader)\n",
    "    for line in myreader:\n",
    "        dict_ = {}\n",
    "        for i in range(len(line)):\n",
    "            dict_[areas[i]] = float(line[i])\n",
    "        func_conn_data[areas[myreader.line_num - 5]] = dict_\n",
    "\n",
    "# Experimental functional connectivity\n",
    "exp_FC = np.zeros((len(M.area_list),\n",
    "                   len(M.area_list)))\n",
    "for i, area1 in enumerate(M.area_list):\n",
    "    for j, area2 in enumerate(M.area_list):\n",
    "        exp_FC[i][j] = func_conn_data[area1][area2]"
   ]
  },
  {
   "cell_type": "code",
   "execution_count": 5,
   "id": "70604f7f-e517-4d6a-b655-8128895b6e5e",
   "metadata": {},
   "outputs": [],
   "source": [
    "cc_weights_factor_list = [1.0, 1.1, 1.2, 1.3, 1.4, 1.5, 1.6, 1.7, 1.8, 1.9, 2.0, 2.1, 2.2, 2.3, 2.4, 2.5, 3.0, 3.5, 4.0, 5.0, 6.0, 7.0, 8.0, 9.0, 10.0]"
   ]
  },
  {
   "cell_type": "code",
   "execution_count": 6,
   "id": "1a4090a2-72c5-4750-8a98-941f00a6d2f4",
   "metadata": {},
   "outputs": [],
   "source": [
    "# Load a list of simulated functional connectivity\n",
    "sim_FC = {}\n",
    "for param in cc_weights_factor_list:\n",
    "    fn = os.path.join(data_path,\n",
    "                      'parameter_scan',\n",
    "                      'functional_connectivity_synaptic_input_{}.npy'.format(param))\n",
    "    sim_FC[param] = np.load(fn)"
   ]
  },
  {
   "cell_type": "code",
   "execution_count": 7,
   "id": "aaa06444-3f92-4c04-9448-014c98110057",
   "metadata": {},
   "outputs": [],
   "source": [
    "def zero_diagonal(matrix):\n",
    "    \"\"\"\n",
    "    Return copy of a matrix with diagonal set to zero.\n",
    "    \"\"\"\n",
    "    M = copy.copy(matrix)\n",
    "    for i in range(M.shape[0]):\n",
    "        M[i, i] = 0\n",
    "    return M"
   ]
  },
  {
   "cell_type": "code",
   "execution_count": 8,
   "id": "9a2f8850-b5ff-4173-a739-2bb828d728dd",
   "metadata": {},
   "outputs": [
    {
     "name": "stdout",
     "output_type": "stream",
     "text": [
      "(0.0015847317063646948, 0.4015847317063647, 7.0)\n"
     ]
    }
   ],
   "source": [
    "# Compute correlation coefficient\n",
    "cc_list = []\n",
    "rsme_list = []\n",
    "for i, param in enumerate(cc_weights_factor_list):\n",
    "    # Pearson correlation\n",
    "    cc = np.corrcoef(zero_diagonal(sim_FC[param]).flatten(),\n",
    "                     zero_diagonal(exp_FC).flatten())[0][1]\n",
    "    cc_list.append(cc)\n",
    "    # RSME\n",
    "    rsme = np.sqrt(np.mean((sim_FC[param]-exp_FC)**2))\n",
    "    rsme_list.append(rsme)\n",
    "\n",
    "# RSME similarity\n",
    "rsme_sim_list = np.exp(-(rsme_list/np.std(zero_diagonal(exp_FC).flatten())))\n",
    "\n",
    "# Initialize the list to store tuples of (absolute difference, value, index)\n",
    "differences = [(abs(0.4 - value), value, cc_weights_factor_list[index]) for index, value in enumerate(cc_list)]\n",
    "\n",
    "# Sort the list based on the absolute difference\n",
    "differences.sort()\n",
    "# print(differences)\n",
    "\n",
    "print(differences[0])"
   ]
  },
  {
   "cell_type": "code",
   "execution_count": 9,
   "id": "b196c433-f98c-4369-bf20-5394c65bb3b4",
   "metadata": {},
   "outputs": [
    {
     "data": {
      "image/png": "[encoded data removed]",
      "text/plain": [
       "<Figure size 1500x400 with 1 Axes>"
      ]
     },
     "metadata": {},
     "output_type": "display_data"
    }
   ],
   "source": [
    "# Plotting\n",
    "fig = plt.figure(figsize=(15, 4))\n",
    "ax = plt.subplot()\n",
    "\n",
    "# Plot the correlation coefficient\n",
    "ax.plot(cc_weights_factor_list, cc_list, '.', ms=10,\n",
    "        markeredgecolor='none', label='Pearson correlation coefficient', color='k')\n",
    "\n",
    "# Plot the RSME similarity\n",
    "ax.plot(cc_weights_factor_list, rsme_sim_list, '.', ms=10,\n",
    "        markeredgecolor='none', label='RSME similarity', color='r')\n",
    "\n",
    "# Correlation between exp. FC and structural connectivity\n",
    "# Construct the structural connectivity as the matrix of relative\n",
    "conn_matrix = np.zeros((len(M.area_list), len(M.area_list)))\n",
    "for i, area1 in enumerate(M.area_list):\n",
    "    s = np.sum(list(M.K_areas[area1].values()))\n",
    "    for j, area2 in enumerate(M.area_list):\n",
    "        value = M.K_areas[area1][area2] / s\n",
    "        conn_matrix[i][j] = value\n",
    "\n",
    "# Compute correlation between exp. FC and structural connectivity\n",
    "cc = np.corrcoef(zero_diagonal(conn_matrix).flatten(),\n",
    "                 zero_diagonal(exp_FC).flatten())[0][1]\n",
    "\n",
    "# Formatting\n",
    "ax.hlines(cc, -0.1, 15, linestyle='dashed', color='k')\n",
    "ax.set_xlabel(r'Cortico-cortical weight factor $\\chi$', labelpad=-0.1, size=16)\n",
    "ax.set_xlim((0.9, 11.0))\n",
    "ax.set_ylim((-0.1, 0.6))\n",
    "ax.set_yticks([0., 0.2, 0.4, 0.6])\n",
    "ax.set_yticklabels([0., 0.2, 0.4, 0.6], size=13)\n",
    "ax.set_xticks(cc_weights_factor_list)\n",
    "ax.set_xticklabels(cc_weights_factor_list, size=10, rotation=90)\n",
    "\n",
    "plt.legend()\n",
    "\n",
    "plt.show()"
   ]
  }
 ],
 "metadata": {
  "kernelspec": {
   "display_name": "EBRAINS-23.09",
   "language": "python",
   "name": "ebrains-23.09"
  },
  "language_info": {
   "codemirror_mode": {
    "name": "ipython",
    "version": 3
   },
   "file_extension": ".py",
   "mimetype": "text/x-python",
   "name": "python",
   "nbconvert_exporter": "python",
   "pygments_lexer": "ipython3",
   "version": "3.8.11"
  }
 },
 "nbformat": 4,
 "nbformat_minor": 5
}
